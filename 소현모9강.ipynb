{
  "nbformat": 4,
  "nbformat_minor": 0,
  "metadata": {
    "colab": {
      "name": "소현모9강.ipynb",
      "provenance": []
    },
    "kernelspec": {
      "name": "python3",
      "display_name": "Python 3"
    },
    "language_info": {
      "name": "python"
    }
  },
  "cells": [
    {
      "cell_type": "code",
      "source": [
        "!pip install mglearn"
      ],
      "metadata": {
        "colab": {
          "base_uri": "https://localhost:8080/"
        },
        "id": "gmTY_pDVElCj",
        "outputId": "1d1be921-fbc7-4b05-993b-725a36be91bd"
      },
      "execution_count": null,
      "outputs": [
        {
          "output_type": "stream",
          "name": "stdout",
          "text": [
            "Collecting mglearn\n",
            "  Downloading mglearn-0.1.9.tar.gz (540 kB)\n",
            "\u001b[?25l\r\u001b[K     |▋                               | 10 kB 15.6 MB/s eta 0:00:01\r\u001b[K     |█▏                              | 20 kB 14.3 MB/s eta 0:00:01\r\u001b[K     |█▉                              | 30 kB 9.4 MB/s eta 0:00:01\r\u001b[K     |██▍                             | 40 kB 8.2 MB/s eta 0:00:01\r\u001b[K     |███                             | 51 kB 4.8 MB/s eta 0:00:01\r\u001b[K     |███▋                            | 61 kB 5.6 MB/s eta 0:00:01\r\u001b[K     |████▎                           | 71 kB 5.5 MB/s eta 0:00:01\r\u001b[K     |████▉                           | 81 kB 5.3 MB/s eta 0:00:01\r\u001b[K     |█████▌                          | 92 kB 5.8 MB/s eta 0:00:01\r\u001b[K     |██████                          | 102 kB 5.3 MB/s eta 0:00:01\r\u001b[K     |██████▊                         | 112 kB 5.3 MB/s eta 0:00:01\r\u001b[K     |███████▎                        | 122 kB 5.3 MB/s eta 0:00:01\r\u001b[K     |███████▉                        | 133 kB 5.3 MB/s eta 0:00:01\r\u001b[K     |████████▌                       | 143 kB 5.3 MB/s eta 0:00:01\r\u001b[K     |█████████                       | 153 kB 5.3 MB/s eta 0:00:01\r\u001b[K     |█████████▊                      | 163 kB 5.3 MB/s eta 0:00:01\r\u001b[K     |██████████▎                     | 174 kB 5.3 MB/s eta 0:00:01\r\u001b[K     |███████████                     | 184 kB 5.3 MB/s eta 0:00:01\r\u001b[K     |███████████▌                    | 194 kB 5.3 MB/s eta 0:00:01\r\u001b[K     |████████████▏                   | 204 kB 5.3 MB/s eta 0:00:01\r\u001b[K     |████████████▊                   | 215 kB 5.3 MB/s eta 0:00:01\r\u001b[K     |█████████████▍                  | 225 kB 5.3 MB/s eta 0:00:01\r\u001b[K     |██████████████                  | 235 kB 5.3 MB/s eta 0:00:01\r\u001b[K     |██████████████▋                 | 245 kB 5.3 MB/s eta 0:00:01\r\u001b[K     |███████████████▏                | 256 kB 5.3 MB/s eta 0:00:01\r\u001b[K     |███████████████▊                | 266 kB 5.3 MB/s eta 0:00:01\r\u001b[K     |████████████████▍               | 276 kB 5.3 MB/s eta 0:00:01\r\u001b[K     |█████████████████               | 286 kB 5.3 MB/s eta 0:00:01\r\u001b[K     |█████████████████▋              | 296 kB 5.3 MB/s eta 0:00:01\r\u001b[K     |██████████████████▏             | 307 kB 5.3 MB/s eta 0:00:01\r\u001b[K     |██████████████████▉             | 317 kB 5.3 MB/s eta 0:00:01\r\u001b[K     |███████████████████▍            | 327 kB 5.3 MB/s eta 0:00:01\r\u001b[K     |████████████████████            | 337 kB 5.3 MB/s eta 0:00:01\r\u001b[K     |████████████████████▋           | 348 kB 5.3 MB/s eta 0:00:01\r\u001b[K     |█████████████████████▎          | 358 kB 5.3 MB/s eta 0:00:01\r\u001b[K     |█████████████████████▉          | 368 kB 5.3 MB/s eta 0:00:01\r\u001b[K     |██████████████████████▌         | 378 kB 5.3 MB/s eta 0:00:01\r\u001b[K     |███████████████████████         | 389 kB 5.3 MB/s eta 0:00:01\r\u001b[K     |███████████████████████▋        | 399 kB 5.3 MB/s eta 0:00:01\r\u001b[K     |████████████████████████▎       | 409 kB 5.3 MB/s eta 0:00:01\r\u001b[K     |████████████████████████▉       | 419 kB 5.3 MB/s eta 0:00:01\r\u001b[K     |█████████████████████████▌      | 430 kB 5.3 MB/s eta 0:00:01\r\u001b[K     |██████████████████████████      | 440 kB 5.3 MB/s eta 0:00:01\r\u001b[K     |██████████████████████████▊     | 450 kB 5.3 MB/s eta 0:00:01\r\u001b[K     |███████████████████████████▎    | 460 kB 5.3 MB/s eta 0:00:01\r\u001b[K     |████████████████████████████    | 471 kB 5.3 MB/s eta 0:00:01\r\u001b[K     |████████████████████████████▌   | 481 kB 5.3 MB/s eta 0:00:01\r\u001b[K     |█████████████████████████████▏  | 491 kB 5.3 MB/s eta 0:00:01\r\u001b[K     |█████████████████████████████▊  | 501 kB 5.3 MB/s eta 0:00:01\r\u001b[K     |██████████████████████████████▍ | 512 kB 5.3 MB/s eta 0:00:01\r\u001b[K     |███████████████████████████████ | 522 kB 5.3 MB/s eta 0:00:01\r\u001b[K     |███████████████████████████████▌| 532 kB 5.3 MB/s eta 0:00:01\r\u001b[K     |████████████████████████████████| 540 kB 5.3 MB/s \n",
            "\u001b[?25hRequirement already satisfied: numpy in /usr/local/lib/python3.7/dist-packages (from mglearn) (1.21.6)\n",
            "Requirement already satisfied: matplotlib in /usr/local/lib/python3.7/dist-packages (from mglearn) (3.2.2)\n",
            "Requirement already satisfied: scikit-learn in /usr/local/lib/python3.7/dist-packages (from mglearn) (1.0.2)\n",
            "Requirement already satisfied: pandas in /usr/local/lib/python3.7/dist-packages (from mglearn) (1.3.5)\n",
            "Requirement already satisfied: pillow in /usr/local/lib/python3.7/dist-packages (from mglearn) (7.1.2)\n",
            "Requirement already satisfied: cycler in /usr/local/lib/python3.7/dist-packages (from mglearn) (0.11.0)\n",
            "Requirement already satisfied: imageio in /usr/local/lib/python3.7/dist-packages (from mglearn) (2.4.1)\n",
            "Requirement already satisfied: joblib in /usr/local/lib/python3.7/dist-packages (from mglearn) (1.1.0)\n",
            "Requirement already satisfied: python-dateutil>=2.1 in /usr/local/lib/python3.7/dist-packages (from matplotlib->mglearn) (2.8.2)\n",
            "Requirement already satisfied: kiwisolver>=1.0.1 in /usr/local/lib/python3.7/dist-packages (from matplotlib->mglearn) (1.4.2)\n",
            "Requirement already satisfied: pyparsing!=2.0.4,!=2.1.2,!=2.1.6,>=2.0.1 in /usr/local/lib/python3.7/dist-packages (from matplotlib->mglearn) (3.0.9)\n",
            "Requirement already satisfied: typing-extensions in /usr/local/lib/python3.7/dist-packages (from kiwisolver>=1.0.1->matplotlib->mglearn) (4.2.0)\n",
            "Requirement already satisfied: six>=1.5 in /usr/local/lib/python3.7/dist-packages (from python-dateutil>=2.1->matplotlib->mglearn) (1.15.0)\n",
            "Requirement already satisfied: pytz>=2017.3 in /usr/local/lib/python3.7/dist-packages (from pandas->mglearn) (2022.1)\n",
            "Requirement already satisfied: threadpoolctl>=2.0.0 in /usr/local/lib/python3.7/dist-packages (from scikit-learn->mglearn) (3.1.0)\n",
            "Requirement already satisfied: scipy>=1.1.0 in /usr/local/lib/python3.7/dist-packages (from scikit-learn->mglearn) (1.4.1)\n",
            "Building wheels for collected packages: mglearn\n",
            "  Building wheel for mglearn (setup.py) ... \u001b[?25l\u001b[?25hdone\n",
            "  Created wheel for mglearn: filename=mglearn-0.1.9-py2.py3-none-any.whl size=582639 sha256=61cfa340810a36943b6839d24a79e02f6692a024bfbd24e64d1636a80df9e9f2\n",
            "  Stored in directory: /root/.cache/pip/wheels/f1/17/e1/1720d6dcd70187b6b6c3750cb3508798f2b1d57c9d3214b08b\n",
            "Successfully built mglearn\n",
            "Installing collected packages: mglearn\n",
            "Successfully installed mglearn-0.1.9\n"
          ]
        }
      ]
    },
    {
      "cell_type": "code",
      "execution_count": null,
      "metadata": {
        "id": "N6mXKVJjEKPu"
      },
      "outputs": [],
      "source": [
        "import matplotlib.pyplot as plt"
      ]
    },
    {
      "cell_type": "code",
      "source": [
        "import mglearn"
      ],
      "metadata": {
        "id": "oE-0Hd8kEwOh"
      },
      "execution_count": null,
      "outputs": []
    },
    {
      "cell_type": "code",
      "source": [
        "X, y = mglearn.datasets.make_wave(n_samples=60)\n",
        "plt.plot(X,y,'ko')"
      ],
      "metadata": {
        "colab": {
          "base_uri": "https://localhost:8080/",
          "height": 283
        },
        "id": "ptRt9ItYEadM",
        "outputId": "2da81981-a33d-47fd-d9ec-cc67be67cf32"
      },
      "execution_count": null,
      "outputs": [
        {
          "output_type": "execute_result",
          "data": {
            "text/plain": [
              "[<matplotlib.lines.Line2D at 0x7f8073934e90>]"
            ]
          },
          "metadata": {},
          "execution_count": 8
        },
        {
          "output_type": "display_data",
          "data": {
            "text/plain": [
              "<Figure size 432x288 with 1 Axes>"
            ],
            "image/png": "[encoded data removed]"
          },
          "metadata": {
            "needs_background": "light"
          }
        }
      ]
    },
    {
      "cell_type": "code",
      "source": [
        "from sklearn.model_selection import train_test_split\n",
        "X_train, X_test, y_train, y_test = train_test_split(X,y,random_state=42)\n",
        "\n",
        "from sklearn.linear_model import LinearRegression\n",
        "lr = LinearRegression()\n",
        "lr.fit(X_train, y_train)\n",
        "\n",
        "print(\"weight: \", lr.coef_)\n",
        "print(\"bias: \", lr.intercept_)"
      ],
      "metadata": {
        "colab": {
          "base_uri": "https://localhost:8080/"
        },
        "id": "AvzzU6W8EyVJ",
        "outputId": "f258b424-7c7b-4d72-97d6-692352f59dc6"
      },
      "execution_count": null,
      "outputs": [
        {
          "output_type": "stream",
          "name": "stdout",
          "text": [
            "weight:  [0.39390555]\n",
            "bias:  -0.031804343026759746\n"
          ]
        }
      ]
    },
    {
      "cell_type": "code",
      "source": [
        "print(\"Train Accuracy: {:.2f}\".format(lr.score(X_train,y_train)))\n",
        "print(\"Test Accuracy: {:.2f}\".format(lr.score(X_test,y_test)))"
      ],
      "metadata": {
        "colab": {
          "base_uri": "https://localhost:8080/"
        },
        "id": "vH7IuxYgFXNq",
        "outputId": "37f5913d-96fa-48ae-80d4-16a8c6f7e499"
      },
      "execution_count": null,
      "outputs": [
        {
          "output_type": "stream",
          "name": "stdout",
          "text": [
            "Train Accuracy: 0.67\n",
            "Test Accuracy: 0.66\n"
          ]
        }
      ]
    },
    {
      "cell_type": "code",
      "source": [
        "from sklearn.linear_model import Ridge\n",
        "ridge = Ridge().fit(X_train, y_train)"
      ],
      "metadata": {
        "id": "X64fkRimlzSb"
      },
      "execution_count": null,
      "outputs": []
    },
    {
      "cell_type": "code",
      "source": [
        "ridge = Ridge(alpha=0.1).fit(X_train,y_train)\n",
        "print(\"Train Accuracy: {:.4f}\".format(ridge.score(X_train,y_train)))\n",
        "print(\"Test Accuracy: {:.4f}\".format(ridge.score(X_test,y_test)))"
      ],
      "metadata": {
        "colab": {
          "base_uri": "https://localhost:8080/"
        },
        "id": "lnhMB1cGbSUB",
        "outputId": "9fc8aebe-84d6-4ef4-f317-c7aa89be134c"
      },
      "execution_count": null,
      "outputs": [
        {
          "output_type": "stream",
          "name": "stdout",
          "text": [
            "Train Accuracy: 0.6701\n",
            "Test Accuracy: 0.6592\n"
          ]
        }
      ]
    }
  ]
}